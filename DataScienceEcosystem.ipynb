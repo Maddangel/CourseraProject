{
 "cells": [
  {
   "cell_type": "markdown",
   "id": "20dd401d-a768-463b-a655-939dd32f10cf",
   "metadata": {},
   "source": [
    "# Data Science Tools and Ecosystem"
   ]
  },
  {
   "cell_type": "markdown",
   "id": "8db349a9-4c7a-4180-b76b-3ac3c1b581ab",
   "metadata": {},
   "source": [
    "In this notebook, Data Science Tools and Ecosystem are summarized"
   ]
  },
  {
   "cell_type": "markdown",
   "id": "53f417fb-f5d1-4c14-abda-5ba77651cbbe",
   "metadata": {},
   "source": [
    "**Objectives**\n",
    "\n",
    "* DS Languages\n",
    "* DS Libraries\n",
    "* DS Tools\n",
    "* Examples"
   ]
  },
  {
   "cell_type": "markdown",
   "id": "af79bd80-909d-4e8a-9056-a75e51630e1f",
   "metadata": {},
   "source": [
    "Some popular data science languages are:\n",
    "1. Python\n",
    "2. SQL\n",
    "3. R"
   ]
  },
  {
   "cell_type": "code",
   "execution_count": null,
   "id": "2151bcb0-a8c3-421a-84e1-463f48e0034a",
   "metadata": {},
   "outputs": [],
   "source": [
    "Some commonly used libraries in data science are:\n",
    "1. Matplotlib\n",
    "2. Pandas\n",
    "3. NumPy\n",
    "4. PyTorch\n",
    "5. TensorFlow\n",
    "6. Plotly\n",
    "7. Scikit-learn"
   ]
  },
  {
   "cell_type": "markdown",
   "id": "31d1c033-ac09-4016-b7ed-08f7afda8468",
   "metadata": {},
   "source": [
    "| Data Science Tools |\n",
    "-----\n",
    "| Spyder |\n",
    "| JupyterLab | \n",
    "| VS Code | "
   ]
  },
  {
   "cell_type": "markdown",
   "id": "19317154-9716-4078-b097-8c05c17c7b19",
   "metadata": {},
   "source": [
    "### Below are a few examples of evaluating arithmetic expressions in Python"
   ]
  },
  {
   "cell_type": "code",
   "execution_count": 1,
   "id": "d345f65a-3b5f-446a-be3c-629c94baee42",
   "metadata": {
    "tags": []
   },
   "outputs": [
    {
     "data": {
      "text/plain": [
       "17"
      ]
     },
     "execution_count": 1,
     "metadata": {},
     "output_type": "execute_result"
    }
   ],
   "source": [
    "# this is a simple arthimetic expressions to multiply then add numbers\n",
    "(3*4)+5"
   ]
  },
  {
   "cell_type": "code",
   "execution_count": 2,
   "id": "b6996345-3c0e-4ef0-a35d-b22e4cd79029",
   "metadata": {
    "tags": []
   },
   "outputs": [
    {
     "data": {
      "text/plain": [
       "3.3333333333333335"
      ]
     },
     "execution_count": 2,
     "metadata": {},
     "output_type": "execute_result"
    }
   ],
   "source": [
    "# This will convert 200 minutes to hours by dividing by 60\n",
    "200/60"
   ]
  },
  {
   "cell_type": "markdown",
   "id": "5c2b280d-333a-4d55-b5ef-9db741255b16",
   "metadata": {},
   "source": [
    "## Author:\n",
    "MH Song"
   ]
  },
  {
   "cell_type": "code",
   "execution_count": null,
   "id": "74133761-9a18-4a7b-9611-a0e540ca96bc",
   "metadata": {},
   "outputs": [],
   "source": []
  }
 ],
 "metadata": {
  "kernelspec": {
   "display_name": "Python",
   "language": "python",
   "name": "conda-env-python-py"
  },
  "language_info": {
   "codemirror_mode": {
    "name": "ipython",
    "version": 3
   },
   "file_extension": ".py",
   "mimetype": "text/x-python",
   "name": "python",
   "nbconvert_exporter": "python",
   "pygments_lexer": "ipython3",
   "version": "3.7.12"
  }
 },
 "nbformat": 4,
 "nbformat_minor": 5
}
